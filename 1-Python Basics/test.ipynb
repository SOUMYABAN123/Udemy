{
 "cells": [
  {
   "cell_type": "code",
   "execution_count": 3,
   "id": "ce665acb",
   "metadata": {},
   "outputs": [
    {
     "name": "stdout",
     "output_type": "stream",
     "text": [
      "[1 2 3 4 5]\n",
      "<class 'numpy.ndarray'>\n",
      "(5,)\n"
     ]
    }
   ],
   "source": [
    "import numpy as np\n",
    "arr1 = np.array([1,2,3,4,5])\n",
    "print(arr1)\n",
    "print(type(arr1))\n",
    "print(arr1.shape)\n",
    "\n",
    "\n",
    "\n"
   ]
  },
  {
   "cell_type": "code",
   "execution_count": null,
   "id": "4b274df5",
   "metadata": {},
   "outputs": [
    {
     "data": {
      "text/plain": [
       "array([[1, 2],\n",
       "       [3, 4],\n",
       "       [5, 6]])"
      ]
     },
     "execution_count": 6,
     "metadata": {},
     "output_type": "execute_result"
    }
   ],
   "source": [
    "arr2 =np.array([1,2,3,4,5,6])\n",
    "arr2.reshape(3,2)  ## 3 row 2 column"
   ]
  },
  {
   "cell_type": "code",
   "execution_count": 8,
   "id": "dc19be22",
   "metadata": {},
   "outputs": [
    {
     "name": "stdout",
     "output_type": "stream",
     "text": [
      "[[1 2 3 4 5]\n",
      " [5 6 7 8 9]]\n",
      "(2, 5)\n"
     ]
    }
   ],
   "source": [
    "arr3 = np.array([[1,2,3,4,5],[5,6,7,8,9]])\n",
    "print(arr3)\n",
    "print(arr3.shape)"
   ]
  },
  {
   "cell_type": "code",
   "execution_count": null,
   "id": "85e082de",
   "metadata": {},
   "outputs": [
    {
     "data": {
      "text/plain": [
       "array([[0],\n",
       "       [2],\n",
       "       [4],\n",
       "       [6],\n",
       "       [8]])"
      ]
     },
     "execution_count": 11,
     "metadata": {},
     "output_type": "execute_result"
    }
   ],
   "source": [
    "np.arange(0,10,2).reshape(5,1) ## from 0 to 10 skip element by 2 means 0,2, 4 ... upto 8 not includinhg 10\n"
   ]
  },
  {
   "cell_type": "code",
   "execution_count": 12,
   "id": "31e3eecd",
   "metadata": {},
   "outputs": [
    {
     "data": {
      "text/plain": [
       "array([[1., 1., 1., 1.],\n",
       "       [1., 1., 1., 1.],\n",
       "       [1., 1., 1., 1.]])"
      ]
     },
     "execution_count": 12,
     "metadata": {},
     "output_type": "execute_result"
    }
   ],
   "source": [
    "np.ones((3,4))"
   ]
  },
  {
   "cell_type": "code",
   "execution_count": 13,
   "id": "9e3bb2a1",
   "metadata": {},
   "outputs": [
    {
     "data": {
      "text/plain": [
       "array([[1., 0., 0.],\n",
       "       [0., 1., 0.],\n",
       "       [0., 0., 1.]])"
      ]
     },
     "execution_count": 13,
     "metadata": {},
     "output_type": "execute_result"
    }
   ],
   "source": [
    "## identity matric\n",
    "np.eye(3)"
   ]
  },
  {
   "cell_type": "code",
   "execution_count": 14,
   "id": "a04df6b1",
   "metadata": {},
   "outputs": [
    {
     "name": "stdout",
     "output_type": "stream",
     "text": [
      "Addition [11 22 33 44 55]\n",
      "Substraction  [ -9 -18 -27 -36 -45]\n",
      "Multiplication [ 10  40  90 160 250]\n"
     ]
    }
   ],
   "source": [
    "## numpy vectoried operations\n",
    "arr1= np.array([1,2,3,4,5])\n",
    "arr2= np.array([10,20,30,40,50])\n",
    "\n",
    "## element wise addition\n",
    "print(\"Addition\", arr1+arr2)\n",
    "\n",
    "## element wise substraction\n",
    "print(\"Substraction \", arr1-arr2)\n",
    "\n",
    "## element wise multiplication\n",
    "print(\"Multiplication\", arr1*arr2)"
   ]
  },
  {
   "cell_type": "code",
   "execution_count": 15,
   "id": "fc7ace04",
   "metadata": {},
   "outputs": [
    {
     "name": "stdout",
     "output_type": "stream",
     "text": [
      "Array : \n",
      " [[ 1  2  3  4  5]\n",
      " [ 5  6  7  8  9]\n",
      " [ 9 10 11 12 13]]\n"
     ]
    }
   ],
   "source": [
    "## array slicing and example\n",
    "arr = np. array([[1,2,3,4,5],[5,6,7,8,9],[9,10,11,12,13]])\n",
    "print(\"Array : \\n\", arr)\n"
   ]
  },
  {
   "cell_type": "code",
   "execution_count": 16,
   "id": "6c589c3f",
   "metadata": {},
   "outputs": [
    {
     "data": {
      "text/plain": [
       "array([1, 2, 3, 4, 5])"
      ]
     },
     "execution_count": 16,
     "metadata": {},
     "output_type": "execute_result"
    }
   ],
   "source": [
    "arr[0]"
   ]
  },
  {
   "cell_type": "code",
   "execution_count": 17,
   "id": "6c5cb7d9",
   "metadata": {},
   "outputs": [
    {
     "data": {
      "text/plain": [
       "np.int64(1)"
      ]
     },
     "execution_count": 17,
     "metadata": {},
     "output_type": "execute_result"
    }
   ],
   "source": [
    "arr[0][0]"
   ]
  },
  {
   "cell_type": "code",
   "execution_count": 18,
   "id": "cc18fb85",
   "metadata": {},
   "outputs": [
    {
     "data": {
      "text/plain": [
       "array([[ 5,  6,  7,  8,  9],\n",
       "       [ 9, 10, 11, 12, 13]])"
      ]
     },
     "execution_count": 18,
     "metadata": {},
     "output_type": "execute_result"
    }
   ],
   "source": [
    "arr[1:] ## start from 2nd row till end of the row"
   ]
  },
  {
   "cell_type": "code",
   "execution_count": null,
   "id": "2a5766ed",
   "metadata": {},
   "outputs": [
    {
     "data": {
      "text/plain": [
       "array([[ 7,  8,  9],\n",
       "       [11, 12, 13]])"
      ]
     },
     "execution_count": 19,
     "metadata": {},
     "output_type": "execute_result"
    }
   ],
   "source": [
    "arr[1:,2:]    ## 1 row 2 column 7 8  9\\n 11 12 13"
   ]
  },
  {
   "cell_type": "code",
   "execution_count": 21,
   "id": "9821bb2f",
   "metadata": {},
   "outputs": [
    {
     "name": "stdout",
     "output_type": "stream",
     "text": [
      "3.0\n",
      "1.4142135623730951\n",
      "[-1.41421356 -0.70710678  0.          0.70710678  1.41421356]\n"
     ]
    }
   ],
   "source": [
    "## mean and standard deviation\n",
    "arr= np.array([1,2,3,4,5])\n",
    "mean = np.mean(arr)\n",
    "print(mean)\n",
    "standard = np.std(arr)\n",
    "print(standard)\n",
    "norm_data = (arr-mean)/ standard\n",
    "print(norm_data)"
   ]
  },
  {
   "cell_type": "code",
   "execution_count": null,
   "id": "120d47d6",
   "metadata": {},
   "outputs": [],
   "source": []
  }
 ],
 "metadata": {
  "kernelspec": {
   "display_name": "Python 3",
   "language": "python",
   "name": "python3"
  },
  "language_info": {
   "codemirror_mode": {
    "name": "ipython",
    "version": 3
   },
   "file_extension": ".py",
   "mimetype": "text/x-python",
   "name": "python",
   "nbconvert_exporter": "python",
   "pygments_lexer": "ipython3",
   "version": "3.13.5"
  }
 },
 "nbformat": 4,
 "nbformat_minor": 5
}
