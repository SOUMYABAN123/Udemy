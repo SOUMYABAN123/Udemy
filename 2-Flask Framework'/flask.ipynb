{
 "cells": [
  {
   "cell_type": "markdown",
   "id": "65dd92c2",
   "metadata": {},
   "source": [
    "## Introduction to flask framework for python based web application"
   ]
  },
  {
   "cell_type": "markdown",
   "id": "89c41db3",
   "metadata": {},
   "source": [
    "WSGI = Web Server Gateway Interface\n",
    "Jinja 2 = Template Engine\n",
    "FLASK = Complete web framework created with the help of python\n",
    "Web Server = Where we will deploy our applications. It could be AWS-EC2 instances, Or AZURE or GCP\n",
    "\n"
   ]
  },
  {
   "cell_type": "markdown",
   "id": "3596c9e1",
   "metadata": {},
   "source": [
    "# WSGI Working Principle: \n",
    "Our Web app deployed on the Web server, If 1 or more request come towards web server and web server is trying to get the web application info or fetch the details , as those applicatioin uses Flask framework a protocol is being used called WSGI.\n"
   ]
  },
  {
   "cell_type": "markdown",
   "id": "f29459dc",
   "metadata": {},
   "source": [
    "# Jinja 2 Template Engine:\n",
    "Jinja 2 is a web template engine. The main importance of this web template engine is that combines any web pages with the data source.\n",
    "Data source can be csv, ml model, mongoDB data"
   ]
  },
  {
   "cell_type": "markdown",
   "id": "464be58b",
   "metadata": {},
   "source": []
  }
 ],
 "metadata": {
  "kernelspec": {
   "display_name": "Python 3",
   "language": "python",
   "name": "python3"
  },
  "language_info": {
   "codemirror_mode": {
    "name": "ipython",
    "version": 3
   },
   "file_extension": ".py",
   "mimetype": "text/x-python",
   "name": "python",
   "nbconvert_exporter": "python",
   "pygments_lexer": "ipython3",
   "version": "3.13.5"
  }
 },
 "nbformat": 4,
 "nbformat_minor": 5
}
